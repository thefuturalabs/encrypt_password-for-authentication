{
 "cells": [
  {
   "cell_type": "code",
   "execution_count": 1,
   "metadata": {},
   "outputs": [
    {
     "name": "stdout",
     "output_type": "stream",
     "text": [
      "Please enter a password: neeraja\n",
      "32\n",
      "a9e3ab82b41b49779e5604a6448c1aa7\n",
      "64bc7cbdbf31405deb229264bade5182e6d937f851a2968e9c1d2a5b4ee927eea9e3ab82b41b49779e5604a6448c1aa7\n",
      "64\n",
      "64bc7cbdbf31405deb229264bade5182e6d937f851a2968e9c1d2a5b4ee927ee\n",
      "The string to store in the db is: 64bc7cbdbf31405deb229264bade5182e6d937f851a2968e9c1d2a5b4ee927ee\n",
      "Now please enter the password again to check: neeraja\n",
      "You entered the right password\n"
     ]
    }
   ],
   "source": [
    "import uuid\n",
    "import hashlib\n",
    "global salt\n",
    "\n",
    "def hash_password(password):\n",
    "    # uuid is used to generate a random number\n",
    "    salt = uuid.uuid4().hex\n",
    "    print(len(salt))\n",
    "    print(salt)\n",
    "    type(salt)\n",
    "    hash_pass=hashlib.sha256( password.encode()).hexdigest()\n",
    "    type(hash_pass)\n",
    "    #hash_password=hash_pass.append(salt)\n",
    "    hash_password=hash_pass+salt\n",
    "    print(hash_password)\n",
    "    print(len(hash_pass))\n",
    "    print(hash_pass)\n",
    "    return hash_pass\n",
    "\n",
    "\n",
    "def check_password(hashed_password, user_password):\n",
    "    # password, salt = hashed_password.split(':')\n",
    "    #print(password)\n",
    "    #print(salt)\n",
    "    a=''\n",
    "    new=hashlib.sha256(user_password.encode()).hexdigest()\n",
    "    return hashed_password== new\n",
    "\n",
    "new_pass = input('Please enter a password: ')\n",
    "hashed_password = hash_password(new_pass)\n",
    "print('The string to store in the db is: ' + hashed_password)\n",
    "old_pass = input('Now please enter the password again to check: ')\n",
    "if check_password(hashed_password, old_pass):\n",
    "    print('You entered the right password')\n",
    "else:\n",
    "    print('I am sorry but the password does not match')\n"
   ]
  },
  {
   "cell_type": "code",
   "execution_count": null,
   "metadata": {},
   "outputs": [],
   "source": [
    "hash_password=[salt,hash_pass]\n",
    "hash_password=join( hash_passwords)\n",
    "print(hash_password)"
   ]
  },
  {
   "cell_type": "code",
   "execution_count": null,
   "metadata": {},
   "outputs": [],
   "source": [
    "from simplecrypt import encrypt, decrypt\n",
    "import binascii\n",
    "\n",
    "message = hashed_password\n",
    "ciphercode = encrypt('AIM', message)\n",
    "print(ciphercode)\n",
    "\n",
    "hex_code=binascii.b2a_hex(ciphercode)\n",
    "scale = 16\n",
    "  \n",
    "# Printing initial string \n",
    "print (\"Initial string\", hex_code) \n",
    "  \n",
    "# Code to convert hex to binary \n",
    "res = bin(int(hex_code, scale)).zfill(8) \n",
    "  \n",
    "# Print the resultant string \n",
    "print (\"Resultant string\", str(res)) \n",
    "binary_string = \"1010\"\n",
    "\n",
    "decimal_representation = int(res, 2)\n",
    "hexadecimal_string = hex(decimal_representation)\n",
    "\n",
    "print(hexadecimal_string)\n",
    "type(hexadecimal_string)\n"
   ]
  },
  {
   "cell_type": "code",
   "execution_count": null,
   "metadata": {},
   "outputs": [],
   "source": [
    "print(type(hex_code))\n",
    "hex_byte,a=hexadecimal_string.split('0x')\n",
    "#print(hex_byte)\n",
    "print(a)\n",
    "hex_byte = bytes(a, 'utf-8')\n",
    "print(type(hex_byte))\n",
    "print(hex_byte)"
   ]
  },
  {
   "cell_type": "code",
   "execution_count": null,
   "metadata": {},
   "outputs": [],
   "source": [
    "hex_byte=binascii.a2b_hex(hex_code)\n",
    "print(hex_byte)"
   ]
  },
  {
   "cell_type": "code",
   "execution_count": null,
   "metadata": {},
   "outputs": [],
   "source": [
    "if ciphercode==hex_byte:\n",
    "    print('true')"
   ]
  },
  {
   "cell_type": "code",
   "execution_count": null,
   "metadata": {},
   "outputs": [],
   "source": [
    "type(hexadecimal_string)\n",
    "\n",
    "type(hex_byte)"
   ]
  },
  {
   "cell_type": "code",
   "execution_count": null,
   "metadata": {},
   "outputs": [],
   "source": [
    "#hex_byte = bytes(hex_byte, 'utf-8')\n",
    "original = decrypt('AIM', hex_byte)\n",
    "\n",
    "print(type(original))\n",
    "print( str(original, 'UTF-8'))"
   ]
  },
  {
   "cell_type": "code",
   "execution_count": null,
   "metadata": {},
   "outputs": [],
   "source": [
    "def check_password(password, user_password):\n",
    "    #password, salt = hashed_password.split(':')\n",
    "    #print(password)\n",
    "    new=hashlib.sha256(user_password.encode()).hexdigest()\n",
    "    password=str(password,'UTF-8')\n",
    "    \n",
    "    \n",
    "    if (password==new):\n",
    "        print(\"matched\")\n",
    "    else :\n",
    "          print(\"not matched\")\n",
    " \n",
    "    \n",
    "     \n",
    "old_pass = input(' please enter the password : ')\n",
    "check_password(original,old_pass)\n",
    "    \n",
    "\n"
   ]
  },
  {
   "cell_type": "code",
   "execution_count": null,
   "metadata": {},
   "outputs": [],
   "source": [
    "if (password==new):\n",
    "    print(\"matched\")\n",
    "else :\n",
    "          print(\"not matched\")\n",
    " "
   ]
  },
  {
   "cell_type": "code",
   "execution_count": null,
   "metadata": {},
   "outputs": [],
   "source": [
    "import math \n",
    "  \n",
    "# Initialising hex string \n",
    "ini_string = \"b35f7b227e2026c6f6a15297dce90b6086e5244783b4c62cd206f7706ce48675\"\n",
    "  \n",
    "# Printing initial string \n",
    "print (\"Initial string\", ini_string) \n",
    "  \n",
    "# Code to convert hex to binary \n",
    "n = int(ini_string, 16)  \n",
    "bStr = '' \n",
    "while n > 0: \n",
    "    bStr = str(n % 2) + bStr \n",
    "    n = n >> 1    \n",
    "res = bStr \n",
    "  \n",
    "# Print the resultant string \n",
    "print (\"Resultant string\", str(res)) "
   ]
  },
  {
   "cell_type": "code",
   "execution_count": null,
   "metadata": {},
   "outputs": [],
   "source": [
    "import hashlib\n",
    "import math\n",
    "import os\n",
    "\n",
    "from Crypto.Cipher import AES\n",
    "\n",
    "IV_SIZE = 16    # 128 bit, fixed for the AES algorithm\n",
    "KEY_SIZE = 32   # 256 bit meaning AES-256, can also be 128 or 192 bits\n",
    "SALT_SIZE = 16  # This size is arbitrary\n",
    "\n",
    "cleartext = b'Lorem ipsum'\n",
    "password = b'highly secure encryption password'\n",
    "salt = os.urandom(SALT_SIZE)\n",
    "derived = hashlib.pbkdf2_hmac('sha256', password, salt, 100000,\n",
    "                              dklen=IV_SIZE + KEY_SIZE)\n",
    "iv = derived[0:IV_SIZE]\n",
    "key = derived[IV_SIZE:]\n",
    "\n",
    "encrypted = salt + AES.new(key, AES.MODE_CFB, iv).encrypt(cleartext)\n",
    "\n",
    "\n",
    "print(encrypted)\n"
   ]
  },
  {
   "cell_type": "code",
   "execution_count": null,
   "metadata": {},
   "outputs": [],
   "source": [
    "import hashlib\n",
    "import base64\n",
    "\n",
    "\n",
    "def Rc4_init(S, K):  # S box replacement initialization, K is the key\n",
    "    j = 0\n",
    "    K = hashlib.md5(K).hexdigest()\n",
    "    k = []  # Temporary array\n",
    "    for i in range(256):\n",
    "        S.append(i)\n",
    "        k.append(K[i % len(K)])\n",
    "    for i in range(256):\n",
    "        j = (j + S[i] + ord(k[i])) % 256\n",
    "        S[i], S[j] = S[j], S[i]  # Exchange S [i], S [j]\n",
    "\n",
    "\n",
    "def rc4_Encrypt(S, D):  \n",
    "    i = j = 0\n",
    "    result = ''\n",
    "    for a in D:\n",
    "        i = (i + 1) % 256\n",
    "        j = (j + S[i]) % 256\n",
    "        S[i], S[j] = S[j], S[i]\n",
    "        t = (S[i] + S[j]) % 256\n",
    "        \n",
    "        k = chr(ord(a) ^ S[(S[i] + S[j]) % 256])\n",
    "        result += k\n",
    "    result = base64.b64encode(result)\n",
    "    return result\n",
    "\n",
    "\n",
    "def rc4_Decrypt(S, D): \n",
    "    i = j = 0\n",
    "    D = base64.b64decode(D)\n",
    "    result = ''\n",
    "    for a in D:\n",
    "        i = (i + 1) % 256\n",
    "        j = (j + S[i]) % 256\n",
    "        S[i], S[j] = S[j], S[i]\n",
    "        t = (S[i] + S[j]) % 256\n",
    "        \n",
    "        k = chr(ord(a) ^ S[(S[i] + S[j]) % 256])\n",
    "        result += k\n",
    "    return result\n",
    "\n",
    "\n",
    "key = 'dasdffdghfghjde'\n",
    "d = 'thisisatest'\n",
    "print(\"key:\"+key)\n",
    "print(\"m:\"+d)\n",
    "\n",
    "\n",
    "s=[]\n",
    "Rc4_init(s, key)\n",
    "#print ( \"s Box:\")\n",
    "#print(s)\n",
    "\n",
    "c = rc4_Encrypt(s, d)\n",
    "print(\"Encrypt:\"+c)\n",
    "\n",
    "s=[]\n",
    "Rc4_init(s,key)\n",
    "#print ( \"s Box:\")\n",
    "#print(s)\n",
    "\n",
    "z = rc4_Decrypt(s, c)\n",
    "print(\"Decrypt:\"+z)\n"
   ]
  },
  {
   "cell_type": "code",
   "execution_count": null,
   "metadata": {},
   "outputs": [],
   "source": [
    "# encrypting\n",
    "from cryptography.fernet import Fernet\n",
    "message = \"my deep dark secret\".encode()\n",
    "\n",
    "f = Fernet(key)\n",
    "encrypted = f.encrypt(message)\n",
    "# decrypting\n",
    "from cryptography.fernet import Fernet\n",
    "encrypted = b\"...encrypted bytes...\"\n",
    "\n",
    "f = Fernet(key)\n",
    "decrypted = f.decrypt(encrypted)"
   ]
  },
  {
   "cell_type": "code",
   "execution_count": null,
   "metadata": {},
   "outputs": [],
   "source": [
    "encoded_message = hashlib.sha1(b'Hello!! Welcome to AIM!!')\n",
    "converted = encoded_message.hexdigest()\n",
    "print(converted)"
   ]
  },
  {
   "cell_type": "code",
   "execution_count": null,
   "metadata": {},
   "outputs": [],
   "source": [
    "message = \"Hello!! Welcome to AIM!!\"\n",
    "\n",
    "ciphercode = encrypt('AIM', message)\n",
    "print(ciphercode)"
   ]
  },
  {
   "cell_type": "code",
   "execution_count": null,
   "metadata": {},
   "outputs": [],
   "source": [
    "res = ''.join(format(ord(i), 'b') for i in str(ciphercode)) \n",
    "print(res)"
   ]
  },
  {
   "cell_type": "code",
   "execution_count": null,
   "metadata": {},
   "outputs": [],
   "source": [
    "def BinaryToDecimal(binary): \n",
    "      \n",
    "    # Using int function to convert to \n",
    "    # string    \n",
    "    string = int(binary, 2) \n",
    "      \n",
    "    return string \n",
    "      \n",
    "# Driver's code \n",
    "# initializing binary data \n",
    "bin_data =res\n",
    "   \n",
    "# print binary data \n",
    "print(\"The binary value is:\", bin_data) \n",
    "   \n",
    "# initializing a empty string for  \n",
    "# storing the string data \n",
    "str_data =' '\n",
    "   \n",
    "# slicing the input and converting it  \n",
    "# in decimal and then converting it in string \n",
    "for i in range(0, len(bin_data), 7): \n",
    "      \n",
    "    # slicing the bin_data from index range [0, 6] \n",
    "    # and storing it in temp_data \n",
    "    temp_data = bin_data[i:i + 7] \n",
    "       \n",
    "    # passing temp_data in BinarytoDecimal() function \n",
    "    # to get decimal value of corresponding temp_data \n",
    "    decimal_data = BinaryToDecimal(temp_data) \n",
    "       \n",
    "    # Deccoding the decimal value returned by  \n",
    "    # BinarytoDecimal() function, using chr()  \n",
    "    # function which return the string corresponding  \n",
    "    # character for given ASCII value, and store it  \n",
    "    # in str_data \n",
    "    str_data = str_data + chr(decimal_data)  \n",
    "  \n",
    "# printing the result \n",
    "print(\"The Binary value after string conversion is:\", \n",
    "       str_data) "
   ]
  },
  {
   "cell_type": "code",
   "execution_count": 1,
   "metadata": {},
   "outputs": [
    {
     "name": "stdout",
     "output_type": "stream",
     "text": [
      "Please enter a password: viji\n",
      "923f68a01ffdad04f9af67a4d8f801e71b93809c758fb70f2903cd984468f86a19904476c5bb49a1ab2d13907cc79ba7\n",
      "b'sc\\x00\\x02\\xa7\\xa2\\x03\\x9dxVS\\x0e\\xc5_uiR\\x8e,R\\x7fS\\x97\\xc8\\x13\\xebC\\xb8\\xf1\\xb5\\xadE\\xd8\\x98\\xf3~ui$|6S\\xe0\\x9a\\x8a\"^\\xed\\x0e\\xea\\xad%\\xc7sj\\xadx\\x00\\xdb\\xe4\\x108\\x84\\xa3k\\x9e\\x89g~\\xd1\\x82T\\x984\\x15I\\xdd\\x1d\\x00\\x84L#\\x98\\xfc\\xc6\\x0e\\xe7XX\\xf2\\xc2\\xf5\\x06\\x1eLq\\r\\xab\\xfc\\xb2D\\x9c\\x19\\xee{\\x96\\xdc\\x90Cm\\xad\\xbeM\\x1a\\xc1\\xef\\xa3\\xe6\\xd4\\\\\\x06,\\x92kx4\\xca\\xdd\\xca\\xb0z\\xb3T\\x8d\\xe6\\xed\\xad\\xf17\\xfd\\x12X\\x85\\x90C\\xf9\\x9b\\x1d\\xc6\\xbf\\x8d\\xfd\\xab\\'^R\\xc73\\xea\\x11X+\\xe6\\x91'\n",
      "Initial string b'73630002a7a2039d7856530ec55f7569528e2c527f5397c813eb43b8f1b5ad45d898f37e7569247c3653e09a8a225eed0eeaad25c7736aad7800dbe4103884a36b9e89677ed1825498341549dd1d00844c2398fcc60ee75858f2c2f5061e4c710dabfcb2449c19ee7b96dc90436dadbe4d1ac1efa3e6d45c062c926b7834caddcab07ab3548de6edadf137fd1258859043f99b1dc6bf8dfdab275e52c733ea11582be691'\n",
      "Resultant string 0b111001101100011000000000000001010100111101000100000001110011101011110000101011001010011000011101100010101011111011101010110100101010010100011100010110001010010011111110101001110010111110010000001001111101011010000111011100011110001101101011010110101000101110110001001100011110011011111100111010101101001001001000111110000110110010100111110000010011010100010100010001001011110111011010000111011101010101011010010010111000111011100110110101010101101011110000000000011011011111001000001000000111000100001001010001101101011100111101000100101100111011111101101000110000010010101001001100000110100000101010100100111011101000111010000000010000100010011000010001110011000111111001100011000001110111001110101100001011000111100101100001011110101000001100001111001001100011100010000110110101011111111001011001001000100100111000001100111101110011110111001011011011100100100000100001101101101101011011011111001001101000110101100000111101111101000111110011011010100010111000000011000101100100100100110101101111000001101001100101011011101110010101011000001111010101100110101010010001101111001101110110110101101111100010011011111111101000100100101100010000101100100000100001111111001100110110001110111000110101111111000110111111101101010110010011101011110010100101100011100110011111010100001000101011000001010111110011010010001\n"
     ]
    }
   ],
   "source": [
    "import uuid\n",
    "import hashlib\n",
    "from simplecrypt import encrypt, decrypt\n",
    "import binascii\n",
    "\n",
    "\n",
    "new_pass = input('Please enter a password: ')\n",
    "\n",
    "salt = uuid.uuid4().hex\n",
    "\n",
    "hash_pass = hashlib.sha256(new_pass.encode()).hexdigest()\n",
    "\n",
    "# hash_password=hash_pass.append(salt)\n",
    "hash_password = hash_pass + salt\n",
    "print(hash_password)\n",
    "message = hash_password\n",
    "ciphercode = encrypt('AIM', message)\n",
    "print(ciphercode)\n",
    "\n",
    "hex_code = binascii.b2a_hex(ciphercode)\n",
    "scale = 16\n",
    "\n",
    "# Printing initial string\n",
    "print(\"Initial string\", hex_code)\n",
    "\n",
    "# Code to convert hex to binary\n",
    "res = bin(int(hex_code, scale)).zfill(8)\n",
    "\n",
    "# Print the resultant string\n",
    "print(\"Resultant string\", str(res))\n",
    "\n",
    "   \n",
    "\n",
    "\n"
   ]
  },
  {
   "cell_type": "code",
   "execution_count": 21,
   "metadata": {},
   "outputs": [
    {
     "name": "stdout",
     "output_type": "stream",
     "text": [
      "0x73630002a7a2039d7856530ec55f7569528e2c527f5397c813eb43b8f1b5ad45d898f37e7569247c3653e09a8a225eed0eeaad25c7736aad7800dbe4103884a36b9e89677ed1825498341549dd1d00844c2398fcc60ee75858f2c2f5061e4c710dabfcb2449c19ee7b96dc90436dadbe4d1ac1efa3e6d45c062c926b7834caddcab07ab3548de6edadf137fd1258859043f99b1dc6bf8dfdab275e52c733ea11582be691\n",
      "73630002a7a2039d7856530ec55f7569528e2c527f5397c813eb43b8f1b5ad45d898f37e7569247c3653e09a8a225eed0eeaad25c7736aad7800dbe4103884a36b9e89677ed1825498341549dd1d00844c2398fcc60ee75858f2c2f5061e4c710dabfcb2449c19ee7b96dc90436dadbe4d1ac1efa3e6d45c062c926b7834caddcab07ab3548de6edadf137fd1258859043f99b1dc6bf8dfdab275e52c733ea11582be691\n",
      "b'73630002a7a2039d7856530ec55f7569528e2c527f5397c813eb43b8f1b5ad45d898f37e7569247c3653e09a8a225eed0eeaad25c7736aad7800dbe4103884a36b9e89677ed1825498341549dd1d00844c2398fcc60ee75858f2c2f5061e4c710dabfcb2449c19ee7b96dc90436dadbe4d1ac1efa3e6d45c062c926b7834caddcab07ab3548de6edadf137fd1258859043f99b1dc6bf8dfdab275e52c733ea11582be691'\n",
      "b'sc\\x00\\x02\\xa7\\xa2\\x03\\x9dxVS\\x0e\\xc5_uiR\\x8e,R\\x7fS\\x97\\xc8\\x13\\xebC\\xb8\\xf1\\xb5\\xadE\\xd8\\x98\\xf3~ui$|6S\\xe0\\x9a\\x8a\"^\\xed\\x0e\\xea\\xad%\\xc7sj\\xadx\\x00\\xdb\\xe4\\x108\\x84\\xa3k\\x9e\\x89g~\\xd1\\x82T\\x984\\x15I\\xdd\\x1d\\x00\\x84L#\\x98\\xfc\\xc6\\x0e\\xe7XX\\xf2\\xc2\\xf5\\x06\\x1eLq\\r\\xab\\xfc\\xb2D\\x9c\\x19\\xee{\\x96\\xdc\\x90Cm\\xad\\xbeM\\x1a\\xc1\\xef\\xa3\\xe6\\xd4\\\\\\x06,\\x92kx4\\xca\\xdd\\xca\\xb0z\\xb3T\\x8d\\xe6\\xed\\xad\\xf17\\xfd\\x12X\\x85\\x90C\\xf9\\x9b\\x1d\\xc6\\xbf\\x8d\\xfd\\xab\\'^R\\xc73\\xea\\x11X+\\xe6\\x91'\n",
      "b'923f68a01ffdad04f9af67a4d8f801e71b93809c758fb70f2903cd984468f86a19904476c5bb49a1ab2d13907cc79ba7'\n",
      "b'923f68a01ffdad04f9af67a4d8f801e71b93809c758fb70f2903cd984468f86a'\n",
      " please enter the password : viji\n",
      "923f68a01ffdad04f9af67a4d8f801e71b93809c758fb70f2903cd984468f86a\n",
      "923f68a01ffdad04f9af67a4d8f801e71b93809c758fb70f2903cd984468f86a\n",
      "matched\n"
     ]
    }
   ],
   "source": [
    "decimal_representation = int(res, 2)\n",
    "hexadecimal_string = hex(decimal_representation)\n",
    "\n",
    "print(hexadecimal_string)\n",
    "hex_byte,a=hexadecimal_string.split('0x')\n",
    "#print(hex_byte)\n",
    "print(a)\n",
    "hex_byte = bytes(a, 'utf-8')\n",
    "\n",
    "print(hex_byte)\n",
    "hex_byte=binascii.a2b_hex(hex_byte)\n",
    "print(hex_byte)\n",
    "original = decrypt('AIM', hex_byte)\n",
    "print(original)\n",
    "hash_p=original[0:64]\n",
    "print(hash_p)\n",
    "def check_password(password, user_password):\n",
    "    #password, salt = hashed_password.split(':')\n",
    "    #print(password)\n",
    "    new=hashlib.sha256(user_password.encode()).hexdigest()\n",
    "    print(new)\n",
    "   \n",
    "    password=str(password,'UTF-8')\n",
    "   \n",
    "    print(password)\n",
    "    \n",
    "    \n",
    "    if (password==new):\n",
    "        print(\"matched\")\n",
    "    else :\n",
    "          print(\"not matched\")\n",
    " \n",
    "    \n",
    "     \n",
    "old_pass = input(' please enter the password : ')\n",
    "check_password(hash_p,old_pass)\n",
    "    \n",
    "\n",
    "\n"
   ]
  },
  {
   "cell_type": "code",
   "execution_count": 9,
   "metadata": {},
   "outputs": [
    {
     "data": {
      "text/plain": [
       "bytes"
      ]
     },
     "execution_count": 9,
     "metadata": {},
     "output_type": "execute_result"
    }
   ],
   "source": [
    "type(original)"
   ]
  },
  {
   "cell_type": "code",
   "execution_count": 10,
   "metadata": {},
   "outputs": [
    {
     "data": {
      "text/plain": [
       "96"
      ]
     },
     "execution_count": 10,
     "metadata": {},
     "output_type": "execute_result"
    }
   ],
   "source": [
    "64+32\n"
   ]
  },
  {
   "cell_type": "code",
   "execution_count": 20,
   "metadata": {},
   "outputs": [
    {
     "name": "stdout",
     "output_type": "stream",
     "text": [
      "b'923f68a01ffdad04f9af67a4d8f801e71b93809c758fb70f2903cd984468f86a'\n"
     ]
    }
   ],
   "source": [
    "hash_p=original[0:64]\n",
    "print(hash_p)\n",
    "s=original[64:]"
   ]
  },
  {
   "cell_type": "code",
   "execution_count": 3,
   "metadata": {},
   "outputs": [
    {
     "ename": "AttributeError",
     "evalue": "module 'Crypto.Cipher.AES' has no attribute 'MODE_EAX'",
     "output_type": "error",
     "traceback": [
      "\u001b[1;31m---------------------------------------------------------------------------\u001b[0m",
      "\u001b[1;31mAttributeError\u001b[0m                            Traceback (most recent call last)",
      "\u001b[1;32m<ipython-input-3-2f8b7319d915>\u001b[0m in \u001b[0;36m<module>\u001b[1;34m\u001b[0m\n\u001b[0;32m      2\u001b[0m \u001b[0mkey\u001b[0m \u001b[1;33m=\u001b[0m \u001b[1;36m123\u001b[0m\u001b[1;33m\u001b[0m\u001b[1;33m\u001b[0m\u001b[0m\n\u001b[0;32m      3\u001b[0m \u001b[1;33m\u001b[0m\u001b[0m\n\u001b[1;32m----> 4\u001b[1;33m \u001b[0mcipher\u001b[0m \u001b[1;33m=\u001b[0m \u001b[0mAES\u001b[0m\u001b[1;33m.\u001b[0m\u001b[0mnew\u001b[0m\u001b[1;33m(\u001b[0m\u001b[0mkey\u001b[0m\u001b[1;33m,\u001b[0m \u001b[0mAES\u001b[0m\u001b[1;33m.\u001b[0m\u001b[0mMODE_EAX\u001b[0m\u001b[1;33m)\u001b[0m\u001b[1;33m\u001b[0m\u001b[1;33m\u001b[0m\u001b[0m\n\u001b[0m\u001b[0;32m      5\u001b[0m \u001b[0mnonce\u001b[0m \u001b[1;33m=\u001b[0m \u001b[0mcipher\u001b[0m\u001b[1;33m.\u001b[0m\u001b[0mnonce\u001b[0m\u001b[1;33m\u001b[0m\u001b[1;33m\u001b[0m\u001b[0m\n\u001b[0;32m      6\u001b[0m \u001b[0mciphertext\u001b[0m\u001b[1;33m,\u001b[0m \u001b[0mtag\u001b[0m \u001b[1;33m=\u001b[0m \u001b[0mcipher\u001b[0m\u001b[1;33m.\u001b[0m\u001b[0mencrypt_and_digest\u001b[0m\u001b[1;33m(\u001b[0m\u001b[0mdata\u001b[0m\u001b[1;33m)\u001b[0m\u001b[1;33m\u001b[0m\u001b[1;33m\u001b[0m\u001b[0m\n",
      "\u001b[1;31mAttributeError\u001b[0m: module 'Crypto.Cipher.AES' has no attribute 'MODE_EAX'"
     ]
    }
   ],
   "source": [
    "from Crypto.Cipher import AES\n",
    "key = 123\n",
    "\n",
    "cipher = AES.new(key, AES.MODE_EAX)\n",
    "nonce = cipher.nonce\n",
    "ciphertext, tag = cipher.encrypt_and_digest(data)"
   ]
  },
  {
   "cell_type": "code",
   "execution_count": null,
   "metadata": {},
   "outputs": [],
   "source": []
  }
 ],
 "metadata": {
  "kernelspec": {
   "display_name": "Python 3",
   "language": "python",
   "name": "python3"
  },
  "language_info": {
   "codemirror_mode": {
    "name": "ipython",
    "version": 3
   },
   "file_extension": ".py",
   "mimetype": "text/x-python",
   "name": "python",
   "nbconvert_exporter": "python",
   "pygments_lexer": "ipython3",
   "version": "3.7.6"
  }
 },
 "nbformat": 4,
 "nbformat_minor": 4
}
